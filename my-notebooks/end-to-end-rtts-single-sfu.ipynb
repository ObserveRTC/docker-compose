{
 "cells": [
  {
   "cell_type": "markdown",
   "id": "5d94e0ef",
   "metadata": {},
   "source": [
    "## Calls"
   ]
  },
  {
   "cell_type": "code",
   "execution_count": 112,
   "id": "500e9ea2",
   "metadata": {
    "tags": []
   },
   "outputs": [
    {
     "name": "stdout",
     "output_type": "stream",
     "text": [
      "\n",
      "Room: Santo Domingo\n",
      "--------\n",
      "\n",
      "Call ae2b890e-4c67-4947-9448-9b074ee947a7\n",
      "\n",
      "\tUserId: Peeves \n",
      "\tClientId: 64aeee1c-b6b6-43d4-a076-80cc1377d174\n",
      "\tJoined: 1654800562698\n",
      "\tLeft: 1654801764402\n",
      "\tDuration: 20 min\n",
      "\n",
      "\tUserId: Bellatrix Lestrange \n",
      "\tClientId: e6c57372-08c8-4853-9cb3-912daadd3e20\n",
      "\tJoined: 1654801711505\n",
      "\tLeft: 1654801784404\n",
      "\tDuration: 1 min\n",
      "\n",
      "Call 3f7c39a9-1ae5-4d9f-a6e5-5f467d367ce3\n",
      "\n",
      "\tUserId: Hedwig \n",
      "\tClientId: bf7b9ea1-d2c5-4762-93d8-33a3a9729bcd\n",
      "\tJoined: 1654803322051\n",
      "\tLeft: 1654839443989\n",
      "\tDuration: 602 min\n",
      "\n",
      "\tUserId: Dumbledore \n",
      "\tClientId: 89c82d9d-d9a9-4d82-bcb7-82fe9eec4811\n",
      "\tJoined: 1654803326351\n",
      "\tLeft: 1654839443989\n",
      "\tDuration: 601 min\n",
      "\n",
      "\tUserId: Bellatrix Lestrange \n",
      "\tClientId: dff1e8a7-9633-49ca-9e9b-19f6e52a9931\n",
      "\tJoined: 1654803329499\n",
      "\tLeft: 1654839443989\n",
      "\tDuration: 601 min\n",
      "\n",
      "Room: Washington, D.C.\n",
      "--------\n",
      "\n",
      "Call 84f0aacc-b135-42ad-932f-b7b010a5754c\n",
      "\n",
      "\tUserId: Seamus Finnigan \n",
      "\tClientId: d0b47c12-969f-4681-836a-143f4fd27d66\n",
      "\tJoined: 1654803655203\n",
      "\tLeft: 1654803965004\n",
      "\tDuration: 5 min\n",
      "\n",
      "\tUserId: Hedwig \n",
      "\tClientId: a7ed9d5d-d6e4-49dc-8637-ba836fc04165\n",
      "\tJoined: 1654803662356\n",
      "\tLeft: 1654803960000\n",
      "\tDuration: 4 min\n"
     ]
    }
   ],
   "source": [
    "from pymongo import MongoClient\n",
    "\n",
    "import time\n",
    "\n",
    "MONGO_HOST=\"localhost\"\n",
    "MONGO_USER=\"root\"\n",
    "MONGO_PASSWORD=\"password\"\n",
    "MONGO_PORT=27017\n",
    "\n",
    "address = 'mongodb://{user}:{password}@{host}:{port}'.format(\n",
    "    user= MONGO_USER,\n",
    "    password= MONGO_PASSWORD,\n",
    "    host= MONGO_HOST,\n",
    "    port= MONGO_PORT,\n",
    ")\n",
    "\n",
    "client = MongoClient(address)\n",
    "database=client[\"observertc-reports\"]\n",
    "\n",
    "# the collection we want to query\n",
    "reportsDatabase = database.reports\n",
    "\n",
    "# print('connected to %s' % address)\n",
    "\n",
    "cursor = reportsDatabase.find( { \"type\": \"CALL_EVENT\", \"payload.name\": { \"$in\": [\"CLIENT_JOINED\", \"CLIENT_LEFT\"] } } )\n",
    "\n",
    "rooms = {}\n",
    "for record in cursor:\n",
    "    callEvent = record[\"payload\"]\n",
    "\n",
    "    roomId = callEvent[\"roomId\"]\n",
    "    callId = callEvent[\"callId\"]\n",
    "    userId = callEvent['userId']\n",
    "    clientId = callEvent['clientId']\n",
    "    timestamp = callEvent['timestamp']\n",
    "\n",
    "    calls = rooms.get(roomId, {})\n",
    "    clients = calls.get(callId, {})\n",
    "    client = clients.get(clientId, {\n",
    "        \"clientId\": clientId,\n",
    "        \"userId\": userId,\n",
    "        \"callId\": callId,\n",
    "        \"roomId\": roomId,\n",
    "    })\n",
    "    \n",
    "    if callEvent[\"name\"] == \"CLIENT_JOINED\":\n",
    "        client.update({ \"joined\": timestamp })\n",
    "    else:\n",
    "        client.update({ \"left\": timestamp })\n",
    "    \n",
    "    clients[clientId] = client\n",
    "    calls[callId] = clients\n",
    "    rooms[roomId] = calls\n",
    "\n",
    "for room in rooms.items():\n",
    "    roomId, calls = room\n",
    "    print('\\nRoom: %s\\n--------' % roomId)\n",
    "    for call in calls.items():\n",
    "        callId, clients = call\n",
    "        print('\\nCall %s' % callId)\n",
    "        for client in clients.values():\n",
    "            userId, clientId, joined = client[\"userId\"], client[\"clientId\"], client[\"joined\"]\n",
    "            left = client.get(\"left\", int(time.time() * 1000))\n",
    "            duration = (left - joined) / (60 * 1000)\n",
    "            print('\\n\\tUserId: %s \\n\\tClientId: %s\\n\\tJoined: %d\\n\\tLeft: %d\\n\\tDuration: %d min' % \n",
    "                  (userId, clientId, joined, left, duration))"
   ]
  },
  {
   "cell_type": "markdown",
   "id": "f095b170",
   "metadata": {},
   "source": [
    "## Select the call and the client we want to plot the end-to-end RTTs"
   ]
  },
  {
   "cell_type": "code",
   "execution_count": 114,
   "id": "d968cc3c",
   "metadata": {},
   "outputs": [
    {
     "name": "stdout",
     "output_type": "stream",
     "text": [
      "selected call is  84f0aacc-b135-42ad-932f-b7b010a5754c in room Washington, D.C. selected user is  Hedwig\n"
     ]
    }
   ],
   "source": [
    "# CALL_ID = \"84f0aacc-b135-42ad-932f-b7b010a5754c\"\n",
    "CLIENT_ID = \"a7ed9d5d-d6e4-49dc-8637-ba836fc04165\"\n",
    "CALL_ID = clients[CLIENT_ID][\"callId\"]\n",
    "print(\"selected call is \", CALL_ID, \"in room\", clients[CLIENT_ID][\"roomId\"], \"selected user is \", clients[CLIENT_ID][\"userId\"])\n",
    "\n"
   ]
  },
  {
   "cell_type": "markdown",
   "id": "86f2f948",
   "metadata": {},
   "source": [
    "### Collect peer connections RTT measurements"
   ]
  },
  {
   "cell_type": "code",
   "execution_count": 115,
   "id": "3e5fb129",
   "metadata": {},
   "outputs": [],
   "source": [
    "client_outb_pc_ids = {}\n",
    "peer_connection_rtts = {}\n",
    "\n",
    "stage_match = {\n",
    "    \"$match\": {\n",
    "        \"$or\": [{ \"type\": \"OUTBOUND_VIDEO_TRACK\" }, { \"type\": \"OUTBOUND_AUDIO_TRACK\" }], \n",
    "        \"payload.callId\": CALL_ID,\n",
    "   }\n",
    "}\n",
    "\n",
    "pipeline = [\n",
    "   stage_match, \n",
    "]\n",
    "\n",
    "cursor = reportsDatabase.aggregate(pipeline)\n",
    "for report in reports:\n",
    "    payload = report[\"payload\"]\n",
    "    client_id = payload[\"clientId\"]\n",
    "    peerconnection_id = payload[\"peerConnectionId\"]\n",
    "    rtt_in_s = payload[\"roundTripTime\"]\n",
    "    timestamp = payload[\"timestamp\"]\n",
    "    \n",
    "    peerconnection_ids = client_outb_pc_ids.get(client_id, set())\n",
    "    peerconnection_ids.add(peerconnection_id)\n",
    "    client_outb_pc_ids[client_id] = peerconnection_ids\n",
    "    \n",
    "    measurements = peer_connection_rtts.get(peerconnection_id, [])\n",
    "    measurement = (rtt_in_s, timestamp)\n",
    "    measurements.append(measurement)\n",
    "    peer_connection_rtts[peerconnection_id] = measurements\n",
    "    \n",
    "# for trackId, measurements in outboundTrackRtts.items():\n",
    "#     print(trackId, measurements)\n"
   ]
  },
  {
   "cell_type": "markdown",
   "id": "77ec0302",
   "metadata": {},
   "source": [
    "### Collect Client peer connections"
   ]
  },
  {
   "cell_type": "code",
   "execution_count": 116,
   "id": "26642351",
   "metadata": {},
   "outputs": [],
   "source": [
    "# map client ids to its peer connections subscribed to receive inbound tracks\n",
    "client_inb_pc_ids = {}\n",
    "\n",
    "# peer connections to its remote peer connections and clients\n",
    "inb_pc_outb_pairs = {}\n",
    "\n",
    "# have an inner map for every client map remote client to the peer connection sending outbound tracks\n",
    "client_outb_pc_pairs = {}\n",
    "\n",
    "stage_match = {\n",
    "    \"$match\": {\n",
    "        \"$or\": [{ \"type\": \"INBOUND_VIDEO_TRACK\" }, { \"type\": \"INBOUND_AUDIO_TRACK\" }],\n",
    "        \"payload.callId\": CALL_ID,\n",
    "   }\n",
    "}\n",
    "pipeline = [\n",
    "   stage_match,\n",
    "]\n",
    "\n",
    "cursor = reportsDatabase.aggregate(pipeline)\n",
    "for report in cursor:\n",
    "    payload = report[\"payload\"]\n",
    "    client_id = payload[\"clientId\"]\n",
    "    client_peerconnection_id = payload[\"peerConnectionId\"]\n",
    "    remote_client_id = payload[\"remoteClientId\"]\n",
    "    remote_client_peerconnection_id = payload[\"remotePeerConnectionId\"]\n",
    "\n",
    "\n",
    "    if client_peerconnection_id is not None:\n",
    "        inb_pc_ids = client_inb_pc_ids.get(client_id, set())\n",
    "        inb_pc_ids.add(client_peerconnection_id)\n",
    "        client_inb_pc_ids[client_id] = inb_pc_ids\n",
    "\n",
    "        if remote_client_id is not None and remote_client_peerconnection_id is not None:\n",
    "            inb_pc_outb_pairs[client_peerconnection_id] = (remote_client_peerconnection_id, remote_client_id)\n",
    "            \n",
    "            client_remote_peers = client_outb_pc_pairs.get(remote_client_id, {})\n",
    "            client_remote_peers[client_id] = remote_client_peerconnection_id\n",
    "            client_outb_pc_pairs[client_id] = client_remote_peers\n",
    "\n"
   ]
  },
  {
   "cell_type": "markdown",
   "id": "7d5e18e0",
   "metadata": {},
   "source": [
    "### Calculate Client end-to-end RTTs"
   ]
  },
  {
   "cell_type": "code",
   "execution_count": 117,
   "id": "5d03c684",
   "metadata": {},
   "outputs": [],
   "source": [
    "client_to_client_rtts = {}\n",
    "\n",
    "for client_inb_pc_id in client_inb_pc_ids[CLIENT_ID]:\n",
    "    \n",
    "    remote_pc_id, remote_client_id = inb_pc_outb_pairs[client_inb_pc_id]\n",
    "    remote_measurements = peer_connection_rtts[remote_pc_id]\n",
    "\n",
    "    remote_client_peers = client_outb_pc_pairs[remote_client_id]\n",
    "    client_outb_pc_id = remote_client_peers[CLIENT_ID]\n",
    "    local_measurements = peer_connection_rtts[client_outb_pc_id]\n",
    "    \n",
    "    sorted_local_measurements = sorted(local_measurements, key=lambda x: x[1])\n",
    "    sorted_remote_measurements = sorted(remote_measurements, key=lambda x: x[1])\n",
    "    \n",
    "    i, j, loc_size, rem_size = 0, 0, len(sorted_local_measurements), len(sorted_remote_measurements)\n",
    "    \n",
    "    end_to_end_rtts = []\n",
    "    timestamps = []\n",
    "    while True:\n",
    "        if loc_size <= i or rem_size <= j:\n",
    "            break\n",
    "        \n",
    "        local_client_to_sfu_rtt, local_client_actual_ts = sorted_local_measurements[i]\n",
    "        remote_client_to_sfu_rtt, remote_client_actual_ts = sorted_remote_measurements[j]\n",
    "        \n",
    "        if  i + 1 < loc_size and sorted_local_measurements[i + 1][1] < remote_client_actual_ts:\n",
    "            i = i + 1\n",
    "            continue\n",
    "        \n",
    "        if j + 1 < rem_size and sorted_remote_measurements[j + 1][1] < local_client_actual_ts:\n",
    "            j = j + 1\n",
    "            continue\n",
    "        \n",
    "        end_to_end_rtt = local_client_to_sfu_rtt + remote_client_to_sfu_rtt\n",
    "        ts = max(local_client_actual_ts, remote_client_actual_ts)\n",
    "        \n",
    "        end_to_end_rtts.append(end_to_end_rtt)\n",
    "        timestamps.append(ts)\n",
    "        \n",
    "        i = i + 1\n",
    "        j = j + 1\n",
    "\n",
    "    client_to_client_rtts[remote_client_id] = (timestamps, end_to_end_rtts)"
   ]
  },
  {
   "cell_type": "code",
   "execution_count": 118,
   "id": "bd59ccdd",
   "metadata": {},
   "outputs": [
    {
     "data": {
      "image/png": "[encoded data removed]",
      "text/plain": [
       "<Figure size 432x288 with 1 Axes>"
      ]
     },
     "metadata": {
      "needs_background": "light"
     },
     "output_type": "display_data"
    }
   ],
   "source": [
    "import matplotlib.pyplot as plt\n",
    "\n",
    "for remote_client_id, remote_client_rtts in client_to_client_rtts.items():\n",
    "    x, y = remote_client_rtts\n",
    "    fig, ax = plt.subplots()\n",
    "    \n",
    "    remote_client = clients[remote_client_id]\n",
    "    ax.set_title(\"end-to-end RTT between \" + client[\"userId\"] + \" and \" + remote_client[\"userId\"])\n",
    "    ax.step(x, y, linewidth=2.5)\n",
    "    ax.set_xlabel('timestamps')\n",
    "    ax.set_ylabel('RTT [s]')\n",
    "    plt.show()"
   ]
  },
  {
   "cell_type": "code",
   "execution_count": null,
   "id": "6181f714",
   "metadata": {},
   "outputs": [],
   "source": []
  }
 ],
 "metadata": {
  "kernelspec": {
   "display_name": "Python 3",
   "language": "python",
   "name": "python3"
  },
  "language_info": {
   "codemirror_mode": {
    "name": "ipython",
    "version": 3
   },
   "file_extension": ".py",
   "mimetype": "text/x-python",
   "name": "python",
   "nbconvert_exporter": "python",
   "pygments_lexer": "ipython3",
   "version": "3.9.10"
  }
 },
 "nbformat": 4,
 "nbformat_minor": 5
}
