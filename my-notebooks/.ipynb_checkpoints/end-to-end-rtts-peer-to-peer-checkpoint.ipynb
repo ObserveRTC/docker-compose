{
 "cells": [
  {
   "cell_type": "markdown",
   "id": "638c16eb",
   "metadata": {},
   "source": [
    "# End-to-end RTTs using one SFU"
   ]
  },
  {
   "cell_type": "markdown",
   "id": "5d94e0ef",
   "metadata": {},
   "source": [
    "## Calls"
   ]
  },
  {
   "cell_type": "code",
   "execution_count": 2,
   "id": "500e9ea2",
   "metadata": {
    "tags": []
   },
   "outputs": [
    {
     "name": "stdout",
     "output_type": "stream",
     "text": [
      "\n",
      "Room: Amsterdam\n",
      "--------\n",
      "\n",
      "Call 91e1c18b-b2e5-406c-8a18-100da9bb9ca8\n",
      "\n",
      "\tUserId: Snape \n",
      "\tClientId: f9d3e3a4-7107-4c4a-8031-ec61ebe8f712\n",
      "\tJoined: 1652192646905\n",
      "\tLeft: 1652193867953\n",
      "\tDuration: 20 min\n",
      "\n",
      "\tUserId: Seamus Finnigan \n",
      "\tClientId: 8bc01596-26fb-47e1-bc31-96b01df25dc2\n",
      "\tJoined: 1652192650963\n",
      "\tLeft: 1652193867953\n",
      "\tDuration: 20 min\n"
     ]
    }
   ],
   "source": [
    "from pymongo import MongoClient\n",
    "\n",
    "import time\n",
    "\n",
    "MONGO_HOST=\"localhost\"\n",
    "MONGO_USER=\"root\"\n",
    "MONGO_PASSWORD=\"password\"\n",
    "MONGO_PORT=27017\n",
    "\n",
    "address = 'mongodb://{user}:{password}@{host}:{port}'.format(\n",
    "    user= MONGO_USER,\n",
    "    password= MONGO_PASSWORD,\n",
    "    host= MONGO_HOST,\n",
    "    port= MONGO_PORT,\n",
    ")\n",
    "\n",
    "client = MongoClient(address)\n",
    "database=client[\"observertc-reports-20\"]\n",
    "\n",
    "# the collection we want to query\n",
    "reportsDatabase = database.reports\n",
    "\n",
    "# print('connected to %s' % address)\n",
    "\n",
    "cursor = reportsDatabase.find( { \"type\": \"CALL_EVENT\", \"payload.name\": { \"$in\": [\"CLIENT_JOINED\", \"CLIENT_LEFT\"] } } )\n",
    "\n",
    "rooms = {}\n",
    "for record in cursor:\n",
    "    callEvent = record[\"payload\"]\n",
    "\n",
    "    roomId = callEvent[\"roomId\"]\n",
    "    callId = callEvent[\"callId\"]\n",
    "    userId = callEvent['userId']\n",
    "    clientId = callEvent['clientId']\n",
    "    timestamp = callEvent['timestamp']\n",
    "\n",
    "    calls = rooms.get(roomId, {})\n",
    "    clients = calls.get(callId, {})\n",
    "    client = clients.get(clientId, {\n",
    "        \"clientId\": clientId,\n",
    "        \"userId\": userId\n",
    "    })\n",
    "    \n",
    "    if callEvent[\"name\"] == \"CLIENT_JOINED\":\n",
    "        client.update({ \"joined\": timestamp })\n",
    "    else:\n",
    "        client.update({ \"left\": timestamp })\n",
    "    \n",
    "    clients[clientId] = client\n",
    "    calls[callId] = clients\n",
    "    rooms[roomId] = calls\n",
    "\n",
    "for room in rooms.items():\n",
    "    roomId, calls = room\n",
    "    print('\\nRoom: %s\\n--------' % roomId)\n",
    "    for call in calls.items():\n",
    "        callId, clients = call\n",
    "        print('\\nCall %s' % callId)\n",
    "        for client in clients.values():\n",
    "            userId, clientId, joined = client[\"userId\"], client[\"clientId\"], client[\"joined\"]\n",
    "            left = client.get(\"left\", int(time.time() * 1000))\n",
    "            duration = (left - joined) / (60 * 1000)\n",
    "            print('\\n\\tUserId: %s \\n\\tClientId: %s\\n\\tJoined: %d\\n\\tLeft: %d\\n\\tDuration: %d min' % \n",
    "                  (userId, clientId, joined, left, duration))"
   ]
  },
  {
   "cell_type": "markdown",
   "id": "f095b170",
   "metadata": {},
   "source": [
    "## Select the client we want to plot the end-to-end RTTs"
   ]
  },
  {
   "cell_type": "code",
   "execution_count": 3,
   "id": "d968cc3c",
   "metadata": {},
   "outputs": [],
   "source": [
    "CALL_ID = \"91e1c18b-b2e5-406c-8a18-100da9bb9ca8\"\n",
    "CLIENT_ID = \"f9d3e3a4-7107-4c4a-8031-ec61ebe8f712\"\n",
    "JOINED_TIMESTAMP = 1652192646905\n",
    "LEFT_TIMESTAMP = 1652193867953\n",
    "TIMESTEP_IN_MS = 30000\n"
   ]
  },
  {
   "cell_type": "markdown",
   "id": "9211f71c",
   "metadata": {},
   "source": [
    "## Helper collections"
   ]
  },
  {
   "cell_type": "code",
   "execution_count": 4,
   "id": "b771e216",
   "metadata": {},
   "outputs": [],
   "source": [
    "# The client application reported RTTs of the clients in the selected CALL_ID\n",
    "clientsRtts = {}\n"
   ]
  },
  {
   "cell_type": "code",
   "execution_count": 7,
   "id": "a5e79776",
   "metadata": {},
   "outputs": [],
   "source": [
    "\n",
    "# Collect RTTs between clients and the SFU\n",
    "\n",
    "startTimestamp = JOINED_TIMESTAMP\n",
    "endTimestamp = startTimestamp + TIMESTEP_IN_MS\n",
    "while endTimestamp < LEFT_TIMESTAMP:\n",
    "    cursor = reportsDatabase.find({ \n",
    "        \"$or\": [{ \"type\": \"OUTBOUND_VIDEO_TRACK\" }, { \"type\": \"OUTBOUND_AUDIO_TRACK\" }], \n",
    "        \"payload.callId\": CALL_ID,\n",
    "        \"payload.timestamp\": { \"$gt\": startTimestamp, \"$lt\": endTimestamp },\n",
    "    })\n",
    "    \n",
    "    reports = list(cursor)\n",
    "    startTimestamp = endTimestamp\n",
    "    endTimestamp = startTimestamp + TIMESTEP_IN_MS\n",
    "    \n",
    "    if len(reports) < 1:\n",
    "        continue\n",
    "#     print(startTimestamp, endTimestamp, len(outboundTrackReports))\n",
    "    \n",
    "    slicedClientsRtts = {}\n",
    "    for report in reports:\n",
    "        outboundTrackReport = report[\"payload\"]\n",
    "        timestamp = outboundTrackReport[\"timestamp\"]\n",
    "        clientId = outboundTrackReport[\"clientId\"]\n",
    "        sfuStreamId = outboundTrackReport[\"sfuStreamId\"]\n",
    "        rttInS = outboundTrackReport[\"roundTripTime\"]\n",
    "        \n",
    "        if rttInS is not None:\n",
    "            clientRtts = slicedClientsRtts.get(clientId, [])\n",
    "            clientRtts.append((timestamp, rttInS))\n",
    "            slicedClientsRtts[clientId] = clientRtts\n",
    "            \n",
    "    for clientId, tuples in slicedClientsRtts.items():\n",
    "        minTimestamp = None\n",
    "        maxRttInS = None\n",
    "        for timestamp, rttInS in tuples:\n",
    "            if maxRttInS is None or maxRttInS < rttInS:\n",
    "                maxRttInS = rttInS\n",
    "            if minTimestamp is None or timestamp < minTimestamp:\n",
    "                minTimestamp = timestamp\n",
    "    \n",
    "        if minTimestamp is not None and maxRttInS is not None:\n",
    "            clientRtts = clientsRtts.get(clientId, {})\n",
    "            clientRtts[minTimestamp] = maxRttInS * 1000\n",
    "            clientsRtts[clientId] = clientRtts\n",
    "    \n"
   ]
  },
  {
   "cell_type": "code",
   "execution_count": 9,
   "id": "b6aada3f",
   "metadata": {},
   "outputs": [],
   "source": [
    "# clientsRtts"
   ]
  },
  {
   "cell_type": "code",
   "execution_count": 10,
   "id": "ecbe4b22",
   "metadata": {},
   "outputs": [],
   "source": [
    "import collections\n",
    "\n",
    "# The final results collected to here as remoteClientId -> (array of timestamps, array of rtts in ms)\n",
    "remoteClientsTotalRtts = {}\n",
    "\n",
    "clientRtts = clientsRtts[CLIENT_ID]\n",
    "clientTimestamps = sorted(clientRtts)\n",
    "\n",
    "for remoteClientId, remoteClientRtts in clientsRtts.items():\n",
    "    if CLIENT_ID == remoteClientId:\n",
    "        continue\n",
    "    \n",
    "    remoteClientTimestamps = collections.deque(sorted(remoteClientRtts))\n",
    "    remoteClientTimestamp = remoteClientTimestamps.popleft()\n",
    "    \n",
    "    timestamps = []\n",
    "    totalRtts = []\n",
    "    \n",
    "    for clientTimestamp in clientTimestamps:\n",
    "        \n",
    "        # align client timestamp with the timestamp the remote client has\n",
    "        while remoteClientTimestamp < clientTimestamp:\n",
    "            if not remoteClientTimestamps:\n",
    "                remoteClientTimestamp = None\n",
    "                break\n",
    "                \n",
    "            remoteClientTimestamp = remoteClientTimestamps.popleft()\n",
    "\n",
    "        # when one of the component does not have more RTT the story ends\n",
    "        if remoteClientTimestamp is None:\n",
    "            break\n",
    "        \n",
    "        totalRttInMs = clientRtts[clientTimestamp] + remoteClientRtts[remoteClientTimestamp]\n",
    "        \n",
    "        timestamps.append(clientTimestamp)\n",
    "        totalRtts.append(totalRttInMs)\n",
    "        \n",
    "    remoteClientsTotalRtts[remoteClientId] = (timestamps, totalRtts)\n",
    "# remoteClientsTotalRtts"
   ]
  },
  {
   "cell_type": "code",
   "execution_count": 11,
   "id": "751f49e1",
   "metadata": {},
   "outputs": [
    {
     "data": {
      "image/png": "[encoded data removed]",
      "text/plain": [
       "<Figure size 432x288 with 1 Axes>"
      ]
     },
     "metadata": {
      "needs_background": "light"
     },
     "output_type": "display_data"
    }
   ],
   "source": [
    "import matplotlib.pyplot as plt\n",
    "    \n",
    "# print(remoteClientTotalRtts)\n",
    "client = clients[CLIENT_ID]\n",
    "\n",
    "for remoteClientTotalRtts in remoteClientsTotalRtts.items():\n",
    "    remoteClientId, xy = remoteClientTotalRtts\n",
    "    x, y = xy\n",
    "    fig, ax = plt.subplots()\n",
    "    \n",
    "    remoteClient = clients[remoteClientId]\n",
    "    ax.set_title(\"end-to-end RTT between \" + client[\"userId\"] + \" and \" + remoteClient[\"userId\"])\n",
    "    ax.step(x, y, linewidth=2.5)\n",
    "    ax.set_xlabel('timestamps')\n",
    "    ax.set_ylabel('RTT [ms]')\n",
    "    plt.show()\n",
    "    \n"
   ]
  },
  {
   "cell_type": "code",
   "execution_count": null,
   "id": "993115f3",
   "metadata": {},
   "outputs": [],
   "source": []
  }
 ],
 "metadata": {
  "kernelspec": {
   "display_name": "Python 3",
   "language": "python",
   "name": "python3"
  },
  "language_info": {
   "codemirror_mode": {
    "name": "ipython",
    "version": 3
   },
   "file_extension": ".py",
   "mimetype": "text/x-python",
   "name": "python",
   "nbconvert_exporter": "python",
   "pygments_lexer": "ipython3",
   "version": "3.9.10"
  }
 },
 "nbformat": 4,
 "nbformat_minor": 5
}
