{
 "cells": [
  {
   "cell_type": "markdown",
   "id": "69fbed7d",
   "metadata": {},
   "source": [
    "# Calls"
   ]
  },
  {
   "cell_type": "code",
   "execution_count": 57,
   "id": "5a51b9ce",
   "metadata": {},
   "outputs": [
    {
     "name": "stdout",
     "output_type": "stream",
     "text": [
      "\n",
      "Room: Maputo\n",
      "--------\n",
      "\n",
      "Call 5a7d1dbc-9c4b-4d8d-9f1d-db16ecb46243\n",
      "\n",
      "\tUserId: Seamus Finnigan \n",
      "\tClientId: dd649fa3-8ae5-443f-bf54-0d678e3bec39\n",
      "\tJoined: 1652693994682\n",
      "\tLeft: 1652694207800\n",
      "\tDuration: 3 min\n",
      "\n",
      "\tUserId: Trelawney \n",
      "\tClientId: b08c1107-779e-4e22-ad90-19a86c5323f3\n",
      "\tJoined: 1652693990493\n",
      "\tLeft: 1652694207804\n",
      "\tDuration: 3 min\n"
     ]
    }
   ],
   "source": [
    "from pymongo import MongoClient\n",
    "\n",
    "import time\n",
    "\n",
    "MONGO_HOST=\"localhost\"\n",
    "MONGO_USER=\"root\"\n",
    "MONGO_PASSWORD=\"password\"\n",
    "MONGO_PORT=27017\n",
    "\n",
    "address = 'mongodb://{user}:{password}@{host}:{port}'.format(\n",
    "    user= MONGO_USER,\n",
    "    password= MONGO_PASSWORD,\n",
    "    host= MONGO_HOST,\n",
    "    port= MONGO_PORT,\n",
    ")\n",
    "\n",
    "client = MongoClient(address)\n",
    "database=client[\"observertc-reports-20\"]\n",
    "\n",
    "# the collection we want to query\n",
    "reportsDatabase = database.reports\n",
    "\n",
    "# print('connected to %s' % address)\n",
    "\n",
    "cursor = reportsDatabase.find( { \"type\": \"CALL_EVENT\", \"payload.name\": { \"$in\": [\"CLIENT_JOINED\", \"CLIENT_LEFT\"] } } )\n",
    "\n",
    "rooms = {}\n",
    "for record in cursor:\n",
    "    callEvent = record[\"payload\"]\n",
    "\n",
    "    roomId = callEvent[\"roomId\"]\n",
    "    callId = callEvent[\"callId\"]\n",
    "    userId = callEvent['userId']\n",
    "    clientId = callEvent['clientId']\n",
    "    timestamp = callEvent['timestamp']\n",
    "\n",
    "    calls = rooms.get(roomId, {})\n",
    "    clients = calls.get(callId, {})\n",
    "    client = clients.get(clientId, {\n",
    "        \"clientId\": clientId,\n",
    "        \"userId\": userId\n",
    "    })\n",
    "    \n",
    "    if callEvent[\"name\"] == \"CLIENT_JOINED\":\n",
    "        client.update({ \"joined\": timestamp })\n",
    "    else:\n",
    "        client.update({ \"left\": timestamp })\n",
    "    \n",
    "    clients[clientId] = client\n",
    "    calls[callId] = clients\n",
    "    rooms[roomId] = calls\n",
    "\n",
    "for room in rooms.items():\n",
    "    roomId, calls = room\n",
    "    print('\\nRoom: %s\\n--------' % roomId)\n",
    "    for call in calls.items():\n",
    "        callId, clients = call\n",
    "        print('\\nCall %s' % callId)\n",
    "        for client in clients.values():\n",
    "            userId, clientId, joined = client[\"userId\"], client[\"clientId\"], client[\"joined\"]\n",
    "            left = client.get(\"left\", int(time.time() * 1000))\n",
    "            duration = (left - joined) / (60 * 1000)\n",
    "            print('\\n\\tUserId: %s \\n\\tClientId: %s\\n\\tJoined: %d\\n\\tLeft: %d\\n\\tDuration: %d min' % \n",
    "                  (userId, clientId, joined, left, duration))"
   ]
  },
  {
   "cell_type": "markdown",
   "id": "b4dd5ff8",
   "metadata": {},
   "source": [
    "# Max concurrent streams through SFU over time"
   ]
  },
  {
   "cell_type": "code",
   "execution_count": 45,
   "id": "40f84b55",
   "metadata": {},
   "outputs": [
    {
     "name": "stdout",
     "output_type": "stream",
     "text": [
      "{'_id': {'clientId': 'b08c1107-779e-4e22-ad90-19a86c5323f3', 'sfuStreamId': 'f589f569-911b-4e68-8429-0fa3e7df34e0'}, 'reportsNum': 19}\n",
      "{'_id': {'clientId': 'dd649fa3-8ae5-443f-bf54-0d678e3bec39', 'sfuSinkId': '01034106-862b-475e-a8de-7a38ebdf787c', 'sfuStreamId': 'f589f569-911b-4e68-8429-0fa3e7df34e0'}, 'reportsNum': 18}\n",
      "{'_id': {'clientId': 'dd649fa3-8ae5-443f-bf54-0d678e3bec39', 'sfuStreamId': 'cd6fc1b7-fcda-4578-9720-6f69fd7dd033'}, 'reportsNum': 19}\n",
      "{'_id': {'clientId': 'dd649fa3-8ae5-443f-bf54-0d678e3bec39', 'sfuSinkId': '127180d1-6a96-4d84-8dfc-c7bfcab3e733', 'sfuStreamId': '24ee86df-1f24-4567-92ee-5df88c0983e2'}, 'reportsNum': 18}\n",
      "{'_id': {'clientId': 'b08c1107-779e-4e22-ad90-19a86c5323f3', 'sfuSinkId': 'e2d466f9-ec36-4315-a2ee-e279a2f7e963', 'sfuStreamId': 'cd6fc1b7-fcda-4578-9720-6f69fd7dd033'}, 'reportsNum': 18}\n",
      "{'_id': {'clientId': 'b08c1107-779e-4e22-ad90-19a86c5323f3', 'sfuStreamId': '24ee86df-1f24-4567-92ee-5df88c0983e2'}, 'reportsNum': 19}\n",
      "{'_id': {'clientId': 'b08c1107-779e-4e22-ad90-19a86c5323f3', 'sfuSinkId': 'd96b4974-897b-444a-8ef9-e732a716cc78', 'sfuStreamId': 'd2b46d9e-767c-44fd-ab69-7e1d6965c87d'}, 'reportsNum': 18}\n",
      "{'_id': {'clientId': 'dd649fa3-8ae5-443f-bf54-0d678e3bec39', 'sfuStreamId': 'd2b46d9e-767c-44fd-ab69-7e1d6965c87d'}, 'reportsNum': 19}\n",
      "8\n"
     ]
    }
   ],
   "source": [
    "# Match all tracks connected to an sfu\n",
    "stage_match = {\n",
    "    \"$match\": {\n",
    "        \"$or\": [{ \"type\": \"INBOUND_VIDEO_TRACK\" }, { \"type\": \"INBOUND_AUDIO_TRACK\" },\n",
    "                { \"type\": \"OUTBOUND_VIDEO_TRACK\" }, { \"type\": \"OUTBOUND_AUDIO_TRACK\" }],\n",
    "        \"$or\": [{\"payload.sfuStreamId\": { \"$exists\" : True }}, \n",
    "                {\"payload.sfuSinkId\": { \"$exists\" : True }, \"payload.sfuStreamId\": { \"$exists\" : True }}]\n",
    "   }\n",
    "}\n",
    "# group by clients\n",
    "stage_group = {\n",
    "   \"$group\": {\n",
    "         \"_id\": {\n",
    "             \"clientId\": \"$payload.clientId\",\n",
    "             \"sfuSinkId\": \"$payload.sfuSinkId\",\n",
    "             \"sfuStreamId\": \"$payload.sfuStreamId\"\n",
    "          },\n",
    "           \"reportsNum\": { \"$sum\": 1 }, \n",
    "   }\n",
    "}\n",
    "\n",
    "# the pipeline\n",
    "pipeline = [\n",
    "   stage_match, \n",
    "   stage_group,\n",
    "]\n",
    "\n",
    "cursor = reportsDatabase.aggregate(pipeline)\n",
    "print(\"number of concurrent sfu streams\", len(list(cursor)))\n",
    "# num = 0\n",
    "# for report in cursor:\n",
    "#     print(report)\n",
    "#     num = num + 1\n",
    "# print(num)"
   ]
  },
  {
   "cell_type": "code",
   "execution_count": 47,
   "id": "575afa0e",
   "metadata": {},
   "outputs": [
    {
     "name": "stdout",
     "output_type": "stream",
     "text": [
      "number of concurrent sfu streams 8\n",
      "0\n"
     ]
    }
   ],
   "source": [
    "# Match all RTP pad joined to the SFU\n",
    "stage_match = {\n",
    "    \"$match\": {\n",
    "        \"$or\": [{ \"type\": \"SFU_INBOUND_RTP_PAD\" }, { \"type\": \"SFU_OUTBOUND_RTP_PAD\" }]\n",
    "   }\n",
    "}\n",
    "# group by clients\n",
    "stage_group = {\n",
    "   \"$group\": {\n",
    "         \"_id\": {\n",
    "             \"sfuId\": \"$payload.sfuId\",\n",
    "             \"sfuSinkId\": \"$payload.sfuSinkId\",\n",
    "             \"sfuStreamId\": \"$payload.sfuStreamId\"\n",
    "         },\n",
    "         \"reportsNum\": { \"$sum\": 1 }, \n",
    "   }\n",
    "}\n",
    "\n",
    "# the pipeline\n",
    "pipeline = [\n",
    "   stage_match, \n",
    "   stage_group,\n",
    "]\n",
    "\n",
    "cursor = reportsDatabase.aggregate(pipeline)\n",
    "print(\"number of concurrent sfu streams\", len(list(cursor)))\n",
    "num = 0\n",
    "for report in cursor:\n",
    "    print(report)\n",
    "    num = num + 1\n",
    "print(num)"
   ]
  },
  {
   "cell_type": "markdown",
   "id": "135677b8",
   "metadata": {},
   "source": [
    "# Number of calls over time"
   ]
  },
  {
   "cell_type": "code",
   "execution_count": 60,
   "id": "7dd71f60",
   "metadata": {},
   "outputs": [
    {
     "name": "stdout",
     "output_type": "stream",
     "text": [
      "number of calls 1\n"
     ]
    }
   ],
   "source": [
    "# Match all calls started\n",
    "stage_match = {\n",
    "    \"$match\": {\n",
    "        \"type\": \"CALL_EVENT\",\n",
    "        \"payload.name\": \"CALL_STARTED\",\n",
    "   }\n",
    "}\n",
    "\n",
    "\n",
    "# the pipeline\n",
    "pipeline = [\n",
    "   stage_match, \n",
    "]\n",
    "\n",
    "cursor = reportsDatabase.aggregate(pipeline)\n",
    "print(\"number of calls\", len(list(cursor)))\n",
    "num = 0"
   ]
  },
  {
   "cell_type": "markdown",
   "id": "d8dead71",
   "metadata": {},
   "source": [
    "# % conferences with 2 participants over time"
   ]
  },
  {
   "cell_type": "code",
   "execution_count": 87,
   "id": "38a12a97",
   "metadata": {},
   "outputs": [
    {
     "name": "stdout",
     "output_type": "stream",
     "text": [
      "% conferences with 2 participants over time 100.0\n"
     ]
    }
   ],
   "source": [
    "# Match all tracks connected to an sfu\n",
    "stage_match_joined_clients = {\n",
    "    \"$match\": {\n",
    "        \"type\": \"CALL_EVENT\",\n",
    "        \"payload.name\": \"CLIENT_JOINED\",\n",
    "   }\n",
    "}\n",
    "# group by callId\n",
    "stage_group_by_callId = {\n",
    "   \"$group\": {\n",
    "         \"_id\": \"$payload.callId\",\n",
    "         \"clientsNum\": { \"$sum\": 1 }, \n",
    "   }\n",
    "}\n",
    "\n",
    "# the pipeline\n",
    "pipeline = [\n",
    "   stage_match_joined_clients, \n",
    "   stage_group_by_callId,\n",
    "]\n",
    "\n",
    "cursor = reportsDatabase.aggregate(pipeline)\n",
    "total_conferences = 0\n",
    "p2p_conferences = 0\n",
    "for report in cursor:\n",
    "    total_conferences += 1\n",
    "    p2p_conferences += 1 if report[\"clientsNum\"] == 2 else 0\n",
    "print(\"number of concurrent sfu streams\", len(list(cursor)))"
   ]
  },
  {
   "cell_type": "markdown",
   "id": "2e5300b1",
   "metadata": {},
   "source": [
    "# Average conference size"
   ]
  },
  {
   "cell_type": "code",
   "execution_count": 88,
   "id": "48f021e1",
   "metadata": {},
   "outputs": [
    {
     "name": "stdout",
     "output_type": "stream",
     "text": [
      "Average conference size 2.0\n"
     ]
    }
   ],
   "source": [
    "# Match all tracks connected to an sfu\n",
    "stage_match_joined_clients = {\n",
    "    \"$match\": {\n",
    "        \"type\": \"CALL_EVENT\",\n",
    "        \"payload.name\": \"CLIENT_JOINED\",\n",
    "   }\n",
    "}\n",
    "# group by callId\n",
    "stage_group_by_callId = {\n",
    "   \"$group\": {\n",
    "         \"_id\": \"$payload.callId\",\n",
    "         \"clientsNum\": { \"$sum\": 1 }, \n",
    "   }\n",
    "}\n",
    "\n",
    "# the pipeline\n",
    "pipeline = [\n",
    "   stage_match_joined_clients, \n",
    "   stage_group_by_callId,\n",
    "]\n",
    "\n",
    "cursor = reportsDatabase.aggregate(pipeline)\n",
    "total_conferences = 0\n",
    "nr_of_clients = 0\n",
    "for report in cursor:\n",
    "    total_conferences += 1\n",
    "    nr_of_clients += report[\"clientsNum\"]\n",
    "\n",
    "print(\"Average conference size\", nr_of_clients / total_conferences)"
   ]
  },
  {
   "cell_type": "markdown",
   "id": "78998dee",
   "metadata": {},
   "source": [
    "# Number of unique users (unique cookie ids for a given time period)"
   ]
  },
  {
   "cell_type": "code",
   "execution_count": 89,
   "id": "2f7b9193",
   "metadata": {},
   "outputs": [
    {
     "name": "stdout",
     "output_type": "stream",
     "text": [
      "number of concurrent sfu streams 0\n"
     ]
    }
   ],
   "source": [
    "# Match all tracks connected to an sfu\n",
    "stage_match_joined_clients = {\n",
    "    \"$match\": {\n",
    "        \"type\": \"CLIENT_EXTENSION_DATA\",\n",
    "        \"payload.type\": \"BROWSER_FINGERPRINT\",\n",
    "   }\n",
    "}\n",
    "# group by callId\n",
    "stage_group_by_fingerpring = {\n",
    "   \"$group\": {\n",
    "         \"_id\": \"$payload.payload\",\n",
    "   }\n",
    "}\n",
    "\n",
    "# the pipeline\n",
    "pipeline = [\n",
    "   stage_match_joined_clients, \n",
    "   stage_group_by_callId,\n",
    "]\n",
    "\n",
    "cursor = reportsDatabase.aggregate(pipeline)\n",
    "print(\"number of unique users\", len(list(cursor)))"
   ]
  },
  {
   "cell_type": "markdown",
   "id": "e1ab2224",
   "metadata": {},
   "source": [
    "# % of user joins with media issues over time"
   ]
  },
  {
   "cell_type": "code",
   "execution_count": 93,
   "id": "6cd8d011",
   "metadata": {},
   "outputs": [
    {
     "name": "stdout",
     "output_type": "stream",
     "text": [
      "% of user joins with media issues over time 1.0\n"
     ]
    }
   ],
   "source": [
    "cursor = reportsDatabase.find({\n",
    "    \"type\": \"CALL_EVENT\",\n",
    "    \"payload.name\": \"CLIENT_JOINED\"\n",
    "})\n",
    "number_of_clients = len(list(cursor))\n",
    "\n",
    "cursor = reportsDatabase.find({\n",
    "    \"type\": \"CALL_META_DATA\",\n",
    "    \"payload.type\": \"USER_MEDIA_ERROR\"\n",
    "})\n",
    "\n",
    "number_of_user_media_errors = len(list(cursor))\n",
    "\n",
    "print(\"% of user joins with media issues over time\", number_of_user_media_errors / number_of_clients)"
   ]
  },
  {
   "cell_type": "markdown",
   "id": "0f13afeb",
   "metadata": {},
   "source": [
    "# % of user joins (or join attempts) with connectivity issues over time"
   ]
  },
  {
   "cell_type": "code",
   "execution_count": 94,
   "id": "f884cd4f",
   "metadata": {},
   "outputs": [
    {
     "name": "stdout",
     "output_type": "stream",
     "text": [
      "% of user joins (or join attempts) with connectivity issues over time 0.0\n"
     ]
    }
   ],
   "source": [
    "cursor = reportsDatabase.find({\n",
    "    \"type\": \"CALL_EVENT\",\n",
    "    \"payload.name\": \"CLIENT_JOINED\"\n",
    "})\n",
    "number_of_clients = len(list(cursor))\n",
    "\n",
    "cursor = reportsDatabase.find({\n",
    "    \"type\": \"CLIENT_EXTENSION_DATA\",\n",
    "    \"payload.type\": \"ICE_DISCONNECTED\"\n",
    "})\n",
    "\n",
    "number_of_connectivity_issue = len(list(cursor))\n",
    "\n",
    "print(\"% of user joins (or join attempts) with connectivity issues over time\", number_of_connectivity_issue / number_of_clients)\n",
    "\n"
   ]
  },
  {
   "cell_type": "code",
   "execution_count": null,
   "id": "4b8c2f32",
   "metadata": {},
   "outputs": [],
   "source": []
  }
 ],
 "metadata": {
  "kernelspec": {
   "display_name": "Python 3",
   "language": "python",
   "name": "python3"
  },
  "language_info": {
   "codemirror_mode": {
    "name": "ipython",
    "version": 3
   },
   "file_extension": ".py",
   "mimetype": "text/x-python",
   "name": "python",
   "nbconvert_exporter": "python",
   "pygments_lexer": "ipython3",
   "version": "3.9.10"
  }
 },
 "nbformat": 4,
 "nbformat_minor": 5
}
