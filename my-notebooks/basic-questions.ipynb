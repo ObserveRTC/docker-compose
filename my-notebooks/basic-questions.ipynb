{
 "cells": [
  {
   "cell_type": "markdown",
   "id": "69fbed7d",
   "metadata": {},
   "source": [
    "# Calls"
   ]
  },
  {
   "cell_type": "code",
   "execution_count": 39,
   "id": "5a51b9ce",
   "metadata": {},
   "outputs": [
    {
     "name": "stdout",
     "output_type": "stream",
     "text": [
      "\n",
      "Room: Santo Domingo\n",
      "--------\n",
      "\n",
      "Call ae2b890e-4c67-4947-9448-9b074ee947a7\n",
      "\n",
      "\tUserId: Peeves \n",
      "\tClientId: 64aeee1c-b6b6-43d4-a076-80cc1377d174\n",
      "\tJoined: 1654800562698\n",
      "\tLeft: 1654801764402\n",
      "\tDuration: 20 min\n",
      "\n",
      "\tUserId: Bellatrix Lestrange \n",
      "\tClientId: e6c57372-08c8-4853-9cb3-912daadd3e20\n",
      "\tJoined: 1654801711505\n",
      "\tLeft: 1654801784404\n",
      "\tDuration: 1 min\n",
      "\n",
      "Call 3f7c39a9-1ae5-4d9f-a6e5-5f467d367ce3\n",
      "\n",
      "\tUserId: Hedwig \n",
      "\tClientId: bf7b9ea1-d2c5-4762-93d8-33a3a9729bcd\n",
      "\tJoined: 1654803322051\n",
      "\tLeft: 1654803966491\n",
      "\tDuration: 10 min\n",
      "\n",
      "\tUserId: Dumbledore \n",
      "\tClientId: 89c82d9d-d9a9-4d82-bcb7-82fe9eec4811\n",
      "\tJoined: 1654803326351\n",
      "\tLeft: 1654803966491\n",
      "\tDuration: 10 min\n",
      "\n",
      "\tUserId: Bellatrix Lestrange \n",
      "\tClientId: dff1e8a7-9633-49ca-9e9b-19f6e52a9931\n",
      "\tJoined: 1654803329499\n",
      "\tLeft: 1654803966491\n",
      "\tDuration: 10 min\n",
      "\n",
      "Room: Washington, D.C.\n",
      "--------\n",
      "\n",
      "Call 84f0aacc-b135-42ad-932f-b7b010a5754c\n",
      "\n",
      "\tUserId: Seamus Finnigan \n",
      "\tClientId: d0b47c12-969f-4681-836a-143f4fd27d66\n",
      "\tJoined: 1654803655203\n",
      "\tLeft: 1654803966491\n",
      "\tDuration: 5 min\n",
      "\n",
      "\tUserId: Hedwig \n",
      "\tClientId: a7ed9d5d-d6e4-49dc-8637-ba836fc04165\n",
      "\tJoined: 1654803662356\n",
      "\tLeft: 1654803966491\n",
      "\tDuration: 5 min\n"
     ]
    }
   ],
   "source": [
    "from pymongo import MongoClient\n",
    "\n",
    "import time\n",
    "\n",
    "MONGO_HOST=\"localhost\"\n",
    "MONGO_USER=\"root\"\n",
    "MONGO_PASSWORD=\"password\"\n",
    "MONGO_PORT=27017\n",
    "\n",
    "address = 'mongodb://{user}:{password}@{host}:{port}'.format(\n",
    "    user= MONGO_USER,\n",
    "    password= MONGO_PASSWORD,\n",
    "    host= MONGO_HOST,\n",
    "    port= MONGO_PORT,\n",
    ")\n",
    "\n",
    "client = MongoClient(address)\n",
    "database=client[\"observertc-reports\"]\n",
    "\n",
    "# the collection we want to query\n",
    "reportsDatabase = database.reports\n",
    "\n",
    "# print('connected to %s' % address)\n",
    "\n",
    "cursor = reportsDatabase.find( { \"type\": \"CALL_EVENT\", \"payload.name\": { \"$in\": [\"CLIENT_JOINED\", \"CLIENT_LEFT\"] } } )\n",
    "\n",
    "rooms = {}\n",
    "for record in cursor:\n",
    "    callEvent = record[\"payload\"]\n",
    "\n",
    "    roomId = callEvent[\"roomId\"]\n",
    "    callId = callEvent[\"callId\"]\n",
    "    userId = callEvent['userId']\n",
    "    clientId = callEvent['clientId']\n",
    "    timestamp = callEvent['timestamp']\n",
    "\n",
    "    calls = rooms.get(roomId, {})\n",
    "    clients = calls.get(callId, {})\n",
    "    client = clients.get(clientId, {\n",
    "        \"clientId\": clientId,\n",
    "        \"userId\": userId\n",
    "    })\n",
    "    \n",
    "    if callEvent[\"name\"] == \"CLIENT_JOINED\":\n",
    "        client.update({ \"joined\": timestamp })\n",
    "    else:\n",
    "        client.update({ \"left\": timestamp })\n",
    "    \n",
    "    clients[clientId] = client\n",
    "    calls[callId] = clients\n",
    "    rooms[roomId] = calls\n",
    "\n",
    "for room in rooms.items():\n",
    "    roomId, calls = room\n",
    "    print('\\nRoom: %s\\n--------' % roomId)\n",
    "    for call in calls.items():\n",
    "        callId, clients = call\n",
    "        print('\\nCall %s' % callId)\n",
    "        for client in clients.values():\n",
    "            userId, clientId, joined = client[\"userId\"], client[\"clientId\"], client[\"joined\"]\n",
    "            left = client.get(\"left\", int(time.time() * 1000))\n",
    "            duration = (left - joined) / (60 * 1000)\n",
    "            print('\\n\\tUserId: %s \\n\\tClientId: %s\\n\\tJoined: %d\\n\\tLeft: %d\\n\\tDuration: %d min' % \n",
    "                  (userId, clientId, joined, left, duration))"
   ]
  },
  {
   "cell_type": "markdown",
   "id": "b4dd5ff8",
   "metadata": {},
   "source": [
    "# Max concurrent streams through SFU over time"
   ]
  },
  {
   "cell_type": "code",
   "execution_count": 40,
   "id": "40f84b55",
   "metadata": {},
   "outputs": [
    {
     "name": "stdout",
     "output_type": "stream",
     "text": [
      "number of concurrent sfu streams 34\n"
     ]
    }
   ],
   "source": [
    "# Match all tracks connected to an sfu\n",
    "stage_match = {\n",
    "    \"$match\": {\n",
    "        \"$or\": [{ \"type\": \"INBOUND_VIDEO_TRACK\" }, { \"type\": \"INBOUND_AUDIO_TRACK\" },\n",
    "                { \"type\": \"OUTBOUND_VIDEO_TRACK\" }, { \"type\": \"OUTBOUND_AUDIO_TRACK\" }],\n",
    "        \"$or\": [{\"payload.sfuStreamId\": { \"$exists\" : True }}, \n",
    "                {\"payload.sfuSinkId\": { \"$exists\" : True }, \"payload.sfuStreamId\": { \"$exists\" : True }}]\n",
    "   }\n",
    "}\n",
    "# group by clients\n",
    "stage_group = {\n",
    "   \"$group\": {\n",
    "         \"_id\": {\n",
    "             \"clientId\": \"$payload.clientId\",\n",
    "             \"sfuSinkId\": \"$payload.sfuSinkId\",\n",
    "             \"sfuStreamId\": \"$payload.sfuStreamId\"\n",
    "          },\n",
    "           \"reportsNum\": { \"$sum\": 1 }, \n",
    "   }\n",
    "}\n",
    "\n",
    "# the pipeline\n",
    "pipeline = [\n",
    "   stage_match, \n",
    "   stage_group,\n",
    "]\n",
    "\n",
    "cursor = reportsDatabase.aggregate(pipeline)\n",
    "print(\"number of concurrent sfu streams\", len(list(cursor)))"
   ]
  },
  {
   "cell_type": "markdown",
   "id": "135677b8",
   "metadata": {},
   "source": [
    "# Number of calls over time"
   ]
  },
  {
   "cell_type": "code",
   "execution_count": 42,
   "id": "7dd71f60",
   "metadata": {},
   "outputs": [
    {
     "name": "stdout",
     "output_type": "stream",
     "text": [
      "number of calls 3\n"
     ]
    }
   ],
   "source": [
    "stage_match = {\n",
    "    \"$match\": {\n",
    "        \"type\": \"CALL_EVENT\",\n",
    "        \"payload.name\": \"CALL_STARTED\",\n",
    "   }\n",
    "}\n",
    "\n",
    "pipeline = [\n",
    "   stage_match, \n",
    "]\n",
    "\n",
    "cursor = reportsDatabase.aggregate(pipeline)\n",
    "print(\"number of calls\", len(list(cursor)))\n",
    "num = 0"
   ]
  },
  {
   "cell_type": "markdown",
   "id": "d8dead71",
   "metadata": {},
   "source": [
    "# % conferences with 2 participants over time"
   ]
  },
  {
   "cell_type": "code",
   "execution_count": 46,
   "id": "38a12a97",
   "metadata": {},
   "outputs": [
    {
     "name": "stdout",
     "output_type": "stream",
     "text": [
      "number of conferences have 2 participants 66.66666666666666 %\n"
     ]
    }
   ],
   "source": [
    "stage_match = {\n",
    "    \"$match\": {\n",
    "        \"type\": \"CALL_EVENT\",\n",
    "        \"payload.name\": \"CLIENT_JOINED\",\n",
    "   }\n",
    "}\n",
    "# group by callId\n",
    "stage_group = {\n",
    "   \"$group\": {\n",
    "         \"_id\": \"$payload.callId\",\n",
    "         \"clientsNum\": { \"$sum\": 1 }, \n",
    "   }\n",
    "}\n",
    "\n",
    "pipeline = [\n",
    "   stage_match, \n",
    "   stage_group,\n",
    "]\n",
    "\n",
    "cursor = reportsDatabase.aggregate(pipeline)\n",
    "total_conferences = 0\n",
    "p2p_conferences = 0\n",
    "for report in cursor:\n",
    "    total_conferences += 1\n",
    "    p2p_conferences += 1 if report[\"clientsNum\"] == 2 else 0\n",
    "print(\"number of conferences have 2 participants\", p2p_conferences / total_conferences * 100, \"%\")"
   ]
  },
  {
   "cell_type": "markdown",
   "id": "2e5300b1",
   "metadata": {},
   "source": [
    "# Average conference size"
   ]
  },
  {
   "cell_type": "code",
   "execution_count": 47,
   "id": "48f021e1",
   "metadata": {},
   "outputs": [
    {
     "name": "stdout",
     "output_type": "stream",
     "text": [
      "Average conference size 2.3333333333333335\n"
     ]
    }
   ],
   "source": [
    "stage_match = {\n",
    "    \"$match\": {\n",
    "        \"type\": \"CALL_EVENT\",\n",
    "        \"payload.name\": \"CLIENT_JOINED\",\n",
    "   }\n",
    "}\n",
    "# group by callId\n",
    "stage_group = {\n",
    "   \"$group\": {\n",
    "         \"_id\": \"$payload.callId\",\n",
    "         \"clientsNum\": { \"$sum\": 1 }, \n",
    "   }\n",
    "}\n",
    "\n",
    "# the pipeline\n",
    "pipeline = [\n",
    "   stage_match, \n",
    "   stage_group,\n",
    "]\n",
    "\n",
    "cursor = reportsDatabase.aggregate(pipeline)\n",
    "total_conferences = 0\n",
    "nr_of_clients = 0\n",
    "for report in cursor:\n",
    "    total_conferences += 1\n",
    "    nr_of_clients += report[\"clientsNum\"]\n",
    "\n",
    "print(\"Average conference size\", nr_of_clients / total_conferences)"
   ]
  },
  {
   "cell_type": "markdown",
   "id": "78998dee",
   "metadata": {},
   "source": [
    "# Number of unique users (unique cookie ids for a given time period)"
   ]
  },
  {
   "cell_type": "code",
   "execution_count": 54,
   "id": "2f7b9193",
   "metadata": {},
   "outputs": [
    {
     "name": "stdout",
     "output_type": "stream",
     "text": [
      "number of unique users 0\n"
     ]
    }
   ],
   "source": [
    "stage_match = {\n",
    "    \"$match\": {\n",
    "        \"type\": \"CLIENT_EXTENSION_DATA\",\n",
    "        \"payload.type\": \"USER_FINGERPRINT\",\n",
    "   }\n",
    "}\n",
    "# group by callId\n",
    "stage_group = {\n",
    "   \"$group\": {\n",
    "         \"_id\": \"$payload.payload\",\n",
    "   }\n",
    "}\n",
    "\n",
    "# the pipeline\n",
    "pipeline = [\n",
    "   stage_match, \n",
    "   stage_group,\n",
    "]\n",
    "\n",
    "cursor = reportsDatabase.aggregate(pipeline)\n",
    "print(\"number of unique users\", len(list(cursor)))"
   ]
  },
  {
   "cell_type": "markdown",
   "id": "e1ab2224",
   "metadata": {},
   "source": [
    "# % of user joins with media issues over time"
   ]
  },
  {
   "cell_type": "code",
   "execution_count": 51,
   "id": "6cd8d011",
   "metadata": {},
   "outputs": [
    {
     "name": "stdout",
     "output_type": "stream",
     "text": [
      "% of user joins with media issues over time 0.0\n"
     ]
    }
   ],
   "source": [
    "cursor = reportsDatabase.find({\n",
    "    \"type\": \"CALL_EVENT\",\n",
    "    \"payload.name\": \"CLIENT_JOINED\"\n",
    "})\n",
    "number_of_clients = len(list(cursor))\n",
    "\n",
    "cursor = reportsDatabase.find({\n",
    "    \"type\": \"CALL_META_DATA\",\n",
    "    \"payload.type\": \"USER_MEDIA_ERROR\"\n",
    "})\n",
    "\n",
    "number_of_user_media_errors = len(list(cursor))\n",
    "\n",
    "print(\"% of user joins with media issues over time\", number_of_user_media_errors / number_of_clients)"
   ]
  },
  {
   "cell_type": "markdown",
   "id": "0f13afeb",
   "metadata": {},
   "source": [
    "# % of user joins (or join attempts) with connectivity issues over time"
   ]
  },
  {
   "cell_type": "code",
   "execution_count": 52,
   "id": "f884cd4f",
   "metadata": {},
   "outputs": [
    {
     "name": "stdout",
     "output_type": "stream",
     "text": [
      "% of user joins (or join attempts) with connectivity issues over time 0.0\n"
     ]
    }
   ],
   "source": [
    "cursor = reportsDatabase.find({\n",
    "    \"type\": \"CALL_EVENT\",\n",
    "    \"payload.name\": \"CLIENT_JOINED\"\n",
    "})\n",
    "number_of_clients = len(list(cursor))\n",
    "\n",
    "cursor = reportsDatabase.find({\n",
    "    \"type\": \"CLIENT_EXTENSION_DATA\",\n",
    "    \"payload.type\": \"ICE_DISCONNECTED\"\n",
    "})\n",
    "\n",
    "number_of_connectivity_issue = len(list(cursor))\n",
    "\n",
    "print(\"% of user joins (or join attempts) with connectivity issues over time\", number_of_connectivity_issue / number_of_clients)\n",
    "\n"
   ]
  },
  {
   "cell_type": "code",
   "execution_count": null,
   "id": "4b8c2f32",
   "metadata": {},
   "outputs": [],
   "source": []
  }
 ],
 "metadata": {
  "kernelspec": {
   "display_name": "Python 3",
   "language": "python",
   "name": "python3"
  },
  "language_info": {
   "codemirror_mode": {
    "name": "ipython",
    "version": 3
   },
   "file_extension": ".py",
   "mimetype": "text/x-python",
   "name": "python",
   "nbconvert_exporter": "python",
   "pygments_lexer": "ipython3",
   "version": "3.9.10"
  }
 },
 "nbformat": 4,
 "nbformat_minor": 5
}
